{
 "cells": [
  {
   "cell_type": "code",
   "execution_count": 1,
   "id": "04961980",
   "metadata": {},
   "outputs": [],
   "source": [
    "import numpy as np\n"
   ]
  },
  {
   "cell_type": "code",
   "execution_count": 5,
   "id": "d128fc96",
   "metadata": {},
   "outputs": [],
   "source": [
    "a = np.array([1, 2, 3, 4, 5])"
   ]
  },
  {
   "cell_type": "code",
   "execution_count": 6,
   "id": "452527a9",
   "metadata": {},
   "outputs": [
    {
     "name": "stdout",
     "output_type": "stream",
     "text": [
      "[1 2 3 4 5]\n"
     ]
    }
   ],
   "source": [
    "print(a)"
   ]
  },
  {
   "cell_type": "code",
   "execution_count": 7,
   "id": "666b4536",
   "metadata": {},
   "outputs": [
    {
     "name": "stdout",
     "output_type": "stream",
     "text": [
      "<class 'numpy.ndarray'>\n"
     ]
    }
   ],
   "source": [
    "print(type(a))"
   ]
  },
  {
   "cell_type": "code",
   "execution_count": 10,
   "id": "e957d289",
   "metadata": {},
   "outputs": [
    {
     "name": "stdout",
     "output_type": "stream",
     "text": [
      "[2 3 4 5]\n"
     ]
    }
   ],
   "source": [
    "print(a[1:])\n",
    "# 1 until the end (excluding 1)"
   ]
  },
  {
   "cell_type": "code",
   "execution_count": 11,
   "id": "5f92fe0b",
   "metadata": {},
   "outputs": [
    {
     "name": "stdout",
     "output_type": "stream",
     "text": [
      "[1 2 3]\n"
     ]
    }
   ],
   "source": [
    "print(a[:-2])\n",
    "# up until the last 2 (excluding -2)"
   ]
  },
  {
   "cell_type": "code",
   "execution_count": 12,
   "id": "1c0f751b",
   "metadata": {},
   "outputs": [],
   "source": [
    "a[2]=10"
   ]
  },
  {
   "cell_type": "code",
   "execution_count": 13,
   "id": "fda7b980",
   "metadata": {},
   "outputs": [
    {
     "data": {
      "text/plain": [
       "array([ 1,  2, 10,  4,  5])"
      ]
     },
     "execution_count": 13,
     "metadata": {},
     "output_type": "execute_result"
    }
   ],
   "source": [
    "a"
   ]
  },
  {
   "cell_type": "code",
   "execution_count": 15,
   "id": "a014ba50",
   "metadata": {},
   "outputs": [],
   "source": [
    "a_mul = np.array([[1, 2, 3],\n",
    "                 [4, 5, 6],\n",
    "                 [7, 8, 9]])"
   ]
  },
  {
   "cell_type": "code",
   "execution_count": 16,
   "id": "7bde6510",
   "metadata": {},
   "outputs": [
    {
     "data": {
      "text/plain": [
       "array([[1, 2, 3],\n",
       "       [4, 5, 6],\n",
       "       [7, 8, 9]])"
      ]
     },
     "execution_count": 16,
     "metadata": {},
     "output_type": "execute_result"
    }
   ],
   "source": [
    "a_mul"
   ]
  },
  {
   "cell_type": "code",
   "execution_count": 18,
   "id": "4b142e52",
   "metadata": {},
   "outputs": [
    {
     "data": {
      "text/plain": [
       "np.int64(2)"
      ]
     },
     "execution_count": 18,
     "metadata": {},
     "output_type": "execute_result"
    }
   ],
   "source": [
    "a_mul[0,1]\n"
   ]
  },
  {
   "cell_type": "code",
   "execution_count": 19,
   "id": "b232b98f",
   "metadata": {},
   "outputs": [
    {
     "name": "stdout",
     "output_type": "stream",
     "text": [
      "(3, 3)\n"
     ]
    }
   ],
   "source": [
    "print(a_mul.shape)"
   ]
  },
  {
   "cell_type": "code",
   "execution_count": null,
   "id": "c41113b2",
   "metadata": {},
   "outputs": [
    {
     "name": "stdout",
     "output_type": "stream",
     "text": [
      "2\n"
     ]
    }
   ],
   "source": [
    "print(a_mul.ndim)\n",
    "# dimension of list"
   ]
  },
  {
   "cell_type": "code",
   "execution_count": 22,
   "id": "515f9c6a",
   "metadata": {},
   "outputs": [
    {
     "name": "stdout",
     "output_type": "stream",
     "text": [
      "9\n"
     ]
    }
   ],
   "source": [
    "print(a_mul.size)"
   ]
  },
  {
   "cell_type": "code",
   "execution_count": 23,
   "id": "f31c2b69",
   "metadata": {},
   "outputs": [
    {
     "name": "stdout",
     "output_type": "stream",
     "text": [
      "int64\n"
     ]
    }
   ],
   "source": [
    "print(a_mul.dtype)"
   ]
  },
  {
   "cell_type": "code",
   "execution_count": 33,
   "id": "99a5b078",
   "metadata": {},
   "outputs": [],
   "source": [
    "a= np.array([[1,2,3],\n",
    "             [4,\"5\",6],\n",
    "             [7,8,9]], dtype=np.int32)\n",
    "\n",
    "# you can specify the datatype to typecast it."
   ]
  },
  {
   "cell_type": "code",
   "execution_count": 34,
   "id": "48aabbf2",
   "metadata": {},
   "outputs": [
    {
     "name": "stdout",
     "output_type": "stream",
     "text": [
      "int32\n"
     ]
    }
   ],
   "source": [
    "print(a.dtype)"
   ]
  },
  {
   "cell_type": "code",
   "execution_count": 35,
   "id": "a5da16a6",
   "metadata": {},
   "outputs": [
    {
     "name": "stdout",
     "output_type": "stream",
     "text": [
      "int32\n"
     ]
    }
   ],
   "source": [
    "print(a[0][0].dtype)"
   ]
  },
  {
   "cell_type": "markdown",
   "id": "d7f0b1e5",
   "metadata": {},
   "source": [
    "# functions"
   ]
  },
  {
   "cell_type": "code",
   "execution_count": 38,
   "id": "3c9a8563",
   "metadata": {},
   "outputs": [],
   "source": [
    "a= np.full((2,3,4), 9)\n",
    "# first we fill shape of the array, then the value to fill it with."
   ]
  },
  {
   "cell_type": "code",
   "execution_count": 40,
   "id": "37c19945",
   "metadata": {},
   "outputs": [
    {
     "name": "stdout",
     "output_type": "stream",
     "text": [
      "[[[9 9 9 9]\n",
      "  [9 9 9 9]\n",
      "  [9 9 9 9]]\n",
      "\n",
      " [[9 9 9 9]\n",
      "  [9 9 9 9]\n",
      "  [9 9 9 9]]]\n"
     ]
    }
   ],
   "source": [
    "print(a)\n",
    "# how to read (2,3,4) : it consists of 2 arrays, each of them has 3 arrays, and each of them has 4 elements."
   ]
  },
  {
   "cell_type": "code",
   "execution_count": 41,
   "id": "3d0056a0",
   "metadata": {},
   "outputs": [],
   "source": [
    "a= np.zeros((10,5,2))"
   ]
  },
  {
   "cell_type": "code",
   "execution_count": 42,
   "id": "4487ec84",
   "metadata": {},
   "outputs": [
    {
     "name": "stdout",
     "output_type": "stream",
     "text": [
      "[[[0. 0.]\n",
      "  [0. 0.]\n",
      "  [0. 0.]\n",
      "  [0. 0.]\n",
      "  [0. 0.]]\n",
      "\n",
      " [[0. 0.]\n",
      "  [0. 0.]\n",
      "  [0. 0.]\n",
      "  [0. 0.]\n",
      "  [0. 0.]]\n",
      "\n",
      " [[0. 0.]\n",
      "  [0. 0.]\n",
      "  [0. 0.]\n",
      "  [0. 0.]\n",
      "  [0. 0.]]\n",
      "\n",
      " [[0. 0.]\n",
      "  [0. 0.]\n",
      "  [0. 0.]\n",
      "  [0. 0.]\n",
      "  [0. 0.]]\n",
      "\n",
      " [[0. 0.]\n",
      "  [0. 0.]\n",
      "  [0. 0.]\n",
      "  [0. 0.]\n",
      "  [0. 0.]]\n",
      "\n",
      " [[0. 0.]\n",
      "  [0. 0.]\n",
      "  [0. 0.]\n",
      "  [0. 0.]\n",
      "  [0. 0.]]\n",
      "\n",
      " [[0. 0.]\n",
      "  [0. 0.]\n",
      "  [0. 0.]\n",
      "  [0. 0.]\n",
      "  [0. 0.]]\n",
      "\n",
      " [[0. 0.]\n",
      "  [0. 0.]\n",
      "  [0. 0.]\n",
      "  [0. 0.]\n",
      "  [0. 0.]]\n",
      "\n",
      " [[0. 0.]\n",
      "  [0. 0.]\n",
      "  [0. 0.]\n",
      "  [0. 0.]\n",
      "  [0. 0.]]\n",
      "\n",
      " [[0. 0.]\n",
      "  [0. 0.]\n",
      "  [0. 0.]\n",
      "  [0. 0.]\n",
      "  [0. 0.]]]\n"
     ]
    }
   ],
   "source": [
    "print(a)"
   ]
  },
  {
   "cell_type": "code",
   "execution_count": 43,
   "id": "451b3603",
   "metadata": {},
   "outputs": [],
   "source": [
    "a=np.ones((10,5,2))"
   ]
  },
  {
   "cell_type": "code",
   "execution_count": 44,
   "id": "c1dc54b2",
   "metadata": {},
   "outputs": [
    {
     "name": "stdout",
     "output_type": "stream",
     "text": [
      "[[[1. 1.]\n",
      "  [1. 1.]\n",
      "  [1. 1.]\n",
      "  [1. 1.]\n",
      "  [1. 1.]]\n",
      "\n",
      " [[1. 1.]\n",
      "  [1. 1.]\n",
      "  [1. 1.]\n",
      "  [1. 1.]\n",
      "  [1. 1.]]\n",
      "\n",
      " [[1. 1.]\n",
      "  [1. 1.]\n",
      "  [1. 1.]\n",
      "  [1. 1.]\n",
      "  [1. 1.]]\n",
      "\n",
      " [[1. 1.]\n",
      "  [1. 1.]\n",
      "  [1. 1.]\n",
      "  [1. 1.]\n",
      "  [1. 1.]]\n",
      "\n",
      " [[1. 1.]\n",
      "  [1. 1.]\n",
      "  [1. 1.]\n",
      "  [1. 1.]\n",
      "  [1. 1.]]\n",
      "\n",
      " [[1. 1.]\n",
      "  [1. 1.]\n",
      "  [1. 1.]\n",
      "  [1. 1.]\n",
      "  [1. 1.]]\n",
      "\n",
      " [[1. 1.]\n",
      "  [1. 1.]\n",
      "  [1. 1.]\n",
      "  [1. 1.]\n",
      "  [1. 1.]]\n",
      "\n",
      " [[1. 1.]\n",
      "  [1. 1.]\n",
      "  [1. 1.]\n",
      "  [1. 1.]\n",
      "  [1. 1.]]\n",
      "\n",
      " [[1. 1.]\n",
      "  [1. 1.]\n",
      "  [1. 1.]\n",
      "  [1. 1.]\n",
      "  [1. 1.]]\n",
      "\n",
      " [[1. 1.]\n",
      "  [1. 1.]\n",
      "  [1. 1.]\n",
      "  [1. 1.]\n",
      "  [1. 1.]]]\n"
     ]
    }
   ],
   "source": [
    "print(a)"
   ]
  },
  {
   "cell_type": "code",
   "execution_count": 45,
   "id": "de1eff93",
   "metadata": {},
   "outputs": [],
   "source": [
    "a = np.empty((5,5,5))"
   ]
  },
  {
   "cell_type": "code",
   "execution_count": 46,
   "id": "1829c906",
   "metadata": {},
   "outputs": [
    {
     "name": "stdout",
     "output_type": "stream",
     "text": [
      "[[[0.00000000e+000 6.95174635e-310 4.67386101e-321             nan\n",
      "   1.30127136e-311]\n",
      "  [2.07458463e+026 9.08367229e+223 1.69375010e+190 2.87453085e+291\n",
      "   3.14405836e+233]\n",
      "  [8.54265717e+257 6.99177894e+228 8.24242019e+160 1.26829177e+017\n",
      "   5.79530389e+199]\n",
      "  [7.47730573e+247 4.44389100e+252 1.84841356e-004 4.24515351e+175\n",
      "   3.33747054e+257]\n",
      "  [5.42791239e-109 6.99177729e+228 4.78206908e+180 8.23560879e+160\n",
      "   1.09060199e-114]]\n",
      "\n",
      " [[6.99177794e+228 3.64393095e+228 1.06303599e+224 6.97873719e+228\n",
      "   1.94933351e+243]\n",
      "  [2.65648976e+233 1.14131281e-114 3.93266695e-028 8.89501052e+252\n",
      "   4.69598393e+257]\n",
      "  [1.67751539e+243 7.36093992e+223 2.86121962e+242 2.28898721e+243\n",
      "   1.69375270e+190]\n",
      "  [2.58634340e+161 3.18274026e+291 1.94927295e+243 8.44747281e+252\n",
      "   1.67751539e+243]\n",
      "  [1.69375270e+190 1.86390505e-004 6.92546575e+252 6.51629129e-109\n",
      "   7.54178159e+252]]\n",
      "\n",
      " [[1.21130561e+199 6.77202251e-109 4.31579898e+055 1.94923879e+243\n",
      "   7.27373220e+175]\n",
      "  [5.32751130e+233 4.11941833e+257 1.87238758e+065 9.36669223e+218\n",
      "   2.88067949e+214]\n",
      "  [1.23969134e+224 4.90605860e-109 3.93258379e-028 1.86575517e-004\n",
      "   4.44390491e+252]\n",
      "  [2.21203814e+214 2.71395812e-109 1.23994566e+290 8.55447801e+092\n",
      "   2.02646857e+267]\n",
      "  [1.23994566e+290 3.93266657e-028 2.64141742e+233 9.08367203e+223\n",
      "   1.82676272e+291]]\n",
      "\n",
      " [[9.08366793e+223 3.00454355e+243 5.93160396e+228 1.67751539e+243\n",
      "   4.30993815e-114]\n",
      "  [4.82337451e+228 4.83497261e+185 2.85338320e+242 2.28690020e+243\n",
      "   7.35423705e+223]\n",
      "  [1.12319906e+219 6.99177767e+228 7.35423705e+223 3.93263240e-028\n",
      "   1.84841356e-004]\n",
      "  [1.47193364e+224 1.14445753e+243 1.56004482e+277 9.90028080e-114\n",
      "   2.87453085e+291]\n",
      "  [3.11779745e-109 1.85174564e-004 1.17143213e+200 1.85623318e-004\n",
      "   1.35792338e+200]]\n",
      "\n",
      " [[6.33083394e+233 4.90605860e-109 1.86390505e-004 1.34520189e+228\n",
      "   1.67751539e+243]\n",
      "  [1.86127195e-004 2.06893869e+026 1.85176317e-004 9.48749678e+222\n",
      "   5.18293760e-110]\n",
      "  [5.46377301e+242 2.07496271e+026 9.25079923e+242 1.96897974e+248\n",
      "   7.35423705e+223]\n",
      "  [6.66126215e-115 4.26138717e+257 4.90605860e-109 1.06301026e+224\n",
      "   3.87206523e+228]\n",
      "  [4.90605860e-109 2.48636862e+262 1.94932375e+243 1.30126420e-311\n",
      "   6.98063958e-307]]]\n"
     ]
    }
   ],
   "source": [
    "print(a)"
   ]
  },
  {
   "cell_type": "code",
   "execution_count": 50,
   "id": "17d37c63",
   "metadata": {},
   "outputs": [],
   "source": [
    "x_value = np.arange(0,1005,5)"
   ]
  },
  {
   "cell_type": "code",
   "execution_count": 51,
   "id": "f0bf5cc7",
   "metadata": {},
   "outputs": [
    {
     "name": "stdout",
     "output_type": "stream",
     "text": [
      "[   0    5   10   15   20   25   30   35   40   45   50   55   60   65\n",
      "   70   75   80   85   90   95  100  105  110  115  120  125  130  135\n",
      "  140  145  150  155  160  165  170  175  180  185  190  195  200  205\n",
      "  210  215  220  225  230  235  240  245  250  255  260  265  270  275\n",
      "  280  285  290  295  300  305  310  315  320  325  330  335  340  345\n",
      "  350  355  360  365  370  375  380  385  390  395  400  405  410  415\n",
      "  420  425  430  435  440  445  450  455  460  465  470  475  480  485\n",
      "  490  495  500  505  510  515  520  525  530  535  540  545  550  555\n",
      "  560  565  570  575  580  585  590  595  600  605  610  615  620  625\n",
      "  630  635  640  645  650  655  660  665  670  675  680  685  690  695\n",
      "  700  705  710  715  720  725  730  735  740  745  750  755  760  765\n",
      "  770  775  780  785  790  795  800  805  810  815  820  825  830  835\n",
      "  840  845  850  855  860  865  870  875  880  885  890  895  900  905\n",
      "  910  915  920  925  930  935  940  945  950  955  960  965  970  975\n",
      "  980  985  990  995 1000]\n"
     ]
    }
   ],
   "source": [
    "print(x_value)"
   ]
  },
  {
   "cell_type": "code",
   "execution_count": 55,
   "id": "d4a8c538",
   "metadata": {},
   "outputs": [],
   "source": [
    "x_values = np.linspace(0,1000, 5)"
   ]
  },
  {
   "cell_type": "code",
   "execution_count": 56,
   "id": "9a19d424",
   "metadata": {},
   "outputs": [
    {
     "name": "stdout",
     "output_type": "stream",
     "text": [
      "[   0.  250.  500.  750. 1000.]\n"
     ]
    }
   ],
   "source": [
    "print(x_values)"
   ]
  },
  {
   "cell_type": "code",
   "execution_count": 57,
   "id": "364d4eee",
   "metadata": {},
   "outputs": [
    {
     "name": "stdout",
     "output_type": "stream",
     "text": [
      "nan\n",
      "inf\n"
     ]
    }
   ],
   "source": [
    "print(np.nan)\n",
    "print(np.inf)"
   ]
  },
  {
   "cell_type": "code",
   "execution_count": null,
   "id": "bb394ade",
   "metadata": {},
   "outputs": [
    {
     "name": "stdout",
     "output_type": "stream",
     "text": [
      "True\n",
      "[ True]\n"
     ]
    },
    {
     "name": "stderr",
     "output_type": "stream",
     "text": [
      "C:\\Users\\Swayam\\AppData\\Local\\Temp\\ipykernel_15308\\1011850589.py:1: RuntimeWarning: invalid value encountered in sqrt\n",
      "  print(np.isnan(np.sqrt(-1)))\n",
      "C:\\Users\\Swayam\\AppData\\Local\\Temp\\ipykernel_15308\\1011850589.py:2: RuntimeWarning: divide by zero encountered in divide\n",
      "  print(np.isinf(np.array([10]) / 0))\n"
     ]
    }
   ],
   "source": [
    "print(np.sqrt(-1))\n",
    "print(np.array([10]) / 0)"
   ]
  },
  {
   "cell_type": "code",
   "execution_count": 61,
   "id": "237a5aee",
   "metadata": {},
   "outputs": [],
   "source": [
    "l1= [1,2,3,4,5]\n",
    "l2= [6,7,8,9,10]"
   ]
  },
  {
   "cell_type": "code",
   "execution_count": 62,
   "id": "00c48488",
   "metadata": {},
   "outputs": [],
   "source": [
    "a1 = np.array(l1)\n",
    "a2 = np.array(l2)"
   ]
  },
  {
   "cell_type": "code",
   "execution_count": 63,
   "id": "a3985063",
   "metadata": {},
   "outputs": [
    {
     "name": "stdout",
     "output_type": "stream",
     "text": [
      "[1, 2, 3, 4, 5, 1, 2, 3, 4, 5, 1, 2, 3, 4, 5, 1, 2, 3, 4, 5, 1, 2, 3, 4, 5]\n"
     ]
    }
   ],
   "source": [
    "print(l1 *5)"
   ]
  },
  {
   "cell_type": "code",
   "execution_count": 64,
   "id": "d38dfae5",
   "metadata": {},
   "outputs": [
    {
     "name": "stdout",
     "output_type": "stream",
     "text": [
      "[ 5 10 15 20 25]\n"
     ]
    }
   ],
   "source": [
    "print(a1 * 5)"
   ]
  },
  {
   "cell_type": "code",
   "execution_count": 65,
   "id": "0a6b7c0f",
   "metadata": {},
   "outputs": [
    {
     "name": "stdout",
     "output_type": "stream",
     "text": [
      "[1, 2, 3, 4, 5, 6, 7, 8, 9, 10]\n"
     ]
    }
   ],
   "source": [
    "print(l1 + l2)"
   ]
  },
  {
   "cell_type": "code",
   "execution_count": 66,
   "id": "35721d63",
   "metadata": {},
   "outputs": [
    {
     "name": "stdout",
     "output_type": "stream",
     "text": [
      "[ 7  9 11 13 15]\n"
     ]
    }
   ],
   "source": [
    "print(a1 + a2)"
   ]
  },
  {
   "cell_type": "code",
   "execution_count": 67,
   "id": "b24bd93c",
   "metadata": {},
   "outputs": [
    {
     "name": "stdout",
     "output_type": "stream",
     "text": [
      "[ 6 14 24 36 50]\n"
     ]
    }
   ],
   "source": [
    "print(a1 *a2)"
   ]
  },
  {
   "cell_type": "code",
   "execution_count": 68,
   "id": "97305c2b",
   "metadata": {},
   "outputs": [
    {
     "name": "stdout",
     "output_type": "stream",
     "text": [
      "[0.16666667 0.28571429 0.375      0.44444444 0.5       ]\n"
     ]
    }
   ],
   "source": [
    "print(a1/a2)"
   ]
  },
  {
   "cell_type": "code",
   "execution_count": 69,
   "id": "882166f7",
   "metadata": {},
   "outputs": [],
   "source": [
    "a1 = np.array([1,2,3])\n",
    "a2 = np.array([[1],\n",
    "               [2]])"
   ]
  },
  {
   "cell_type": "code",
   "execution_count": 70,
   "id": "f871a1e1",
   "metadata": {},
   "outputs": [
    {
     "name": "stdout",
     "output_type": "stream",
     "text": [
      "[[2 3 4]\n",
      " [3 4 5]]\n"
     ]
    }
   ],
   "source": [
    "print(a1 + a2)"
   ]
  },
  {
   "cell_type": "code",
   "execution_count": 71,
   "id": "00762f28",
   "metadata": {},
   "outputs": [],
   "source": [
    "a = np.array([[1,2,3],\n",
    "              [4,5,6]])"
   ]
  },
  {
   "cell_type": "code",
   "execution_count": 73,
   "id": "c84cf98e",
   "metadata": {},
   "outputs": [
    {
     "name": "stdout",
     "output_type": "stream",
     "text": [
      "[[ 0.84147098  0.90929743  0.14112001]\n",
      " [-0.7568025  -0.95892427 -0.2794155 ]]\n"
     ]
    }
   ],
   "source": [
    "print(np.sin(a))\n",
    "# we have sin, cos, tan, exp, log, sqrt etc."
   ]
  },
  {
   "cell_type": "code",
   "execution_count": 74,
   "id": "30feb96e",
   "metadata": {},
   "outputs": [],
   "source": [
    "a = np.array([1,2,3])"
   ]
  },
  {
   "cell_type": "code",
   "execution_count": 75,
   "id": "ecc42820",
   "metadata": {},
   "outputs": [
    {
     "name": "stdout",
     "output_type": "stream",
     "text": [
      "[1 2 3 4 5 6]\n",
      "[1 2 3]\n"
     ]
    }
   ],
   "source": [
    "print(np.append(a, [4,5,6]))\n",
    "print(a)\n",
    "# append adds the values to the end of the array."
   ]
  },
  {
   "cell_type": "code",
   "execution_count": 76,
   "id": "04542c64",
   "metadata": {},
   "outputs": [
    {
     "data": {
      "text/plain": [
       "array([1, 2, 3])"
      ]
     },
     "execution_count": 76,
     "metadata": {},
     "output_type": "execute_result"
    }
   ],
   "source": [
    "a"
   ]
  },
  {
   "cell_type": "code",
   "execution_count": 77,
   "id": "5e7739bf",
   "metadata": {},
   "outputs": [],
   "source": [
    "a= np.append(a, [[7,8,9]])  "
   ]
  },
  {
   "cell_type": "code",
   "execution_count": 78,
   "id": "f4042270",
   "metadata": {},
   "outputs": [
    {
     "name": "stdout",
     "output_type": "stream",
     "text": [
      "[1 2 3 7 8 9]\n"
     ]
    }
   ],
   "source": [
    "print(a)"
   ]
  },
  {
   "cell_type": "code",
   "execution_count": null,
   "id": "7c006760",
   "metadata": {},
   "outputs": [],
   "source": [
    "a=np.insert(a, 3, [4,5,6])  \n",
    "# 3 is the index where we want to insert the values, and [4,5,6] are the values to be inserted."
   ]
  },
  {
   "cell_type": "code",
   "execution_count": 82,
   "id": "8ff10b09",
   "metadata": {},
   "outputs": [
    {
     "name": "stdout",
     "output_type": "stream",
     "text": [
      "[1 2 3 4 5 6 7 8 9]\n"
     ]
    }
   ],
   "source": [
    "print(a)"
   ]
  },
  {
   "cell_type": "code",
   "execution_count": 83,
   "id": "de06e4d8",
   "metadata": {},
   "outputs": [
    {
     "name": "stdout",
     "output_type": "stream",
     "text": [
      "[1 3 4 5 6 7 8 9]\n",
      "[1 2 3 5 6 7 8 9]\n",
      "[1 2 3 4 5 7 8 9]\n"
     ]
    }
   ],
   "source": [
    "print(np.delete(a, 1))\n",
    "print(np.delete(a, 3))\n",
    "print(np.delete(a, 5))"
   ]
  },
  {
   "cell_type": "code",
   "execution_count": null,
   "id": "3984fa3d",
   "metadata": {},
   "outputs": [
    {
     "name": "stdout",
     "output_type": "stream",
     "text": [
      "[1 3 4 5 6 7 8 9]\n"
     ]
    }
   ],
   "source": [
    "print(np.delete(a, 1, 0))\n",
    "# 0 is the axis, 1 is the column. So we are deleting the first row."
   ]
  },
  {
   "cell_type": "code",
   "execution_count": 85,
   "id": "75309e4e",
   "metadata": {},
   "outputs": [],
   "source": [
    "a = np.array([[1,2,3,4,5],\n",
    "              [6,7,8,9,10],\n",
    "              [11,12,13,14,15],\n",
    "              [16,17,18,19,20]])\n",
    "# 2D array with shape (4,5), 4 rows and 5 columns."
   ]
  },
  {
   "cell_type": "code",
   "execution_count": 86,
   "id": "8c902f71",
   "metadata": {},
   "outputs": [
    {
     "name": "stdout",
     "output_type": "stream",
     "text": [
      "(4, 5)\n"
     ]
    }
   ],
   "source": [
    "print(a.shape)"
   ]
  },
  {
   "cell_type": "code",
   "execution_count": 87,
   "id": "af21e063",
   "metadata": {},
   "outputs": [
    {
     "name": "stdout",
     "output_type": "stream",
     "text": [
      "[[ 1  2  3  4]\n",
      " [ 5  6  7  8]\n",
      " [ 9 10 11 12]\n",
      " [13 14 15 16]\n",
      " [17 18 19 20]]\n"
     ]
    }
   ],
   "source": [
    "print(a.reshape(5,4))"
   ]
  },
  {
   "cell_type": "code",
   "execution_count": 88,
   "id": "aff66f3d",
   "metadata": {},
   "outputs": [
    {
     "name": "stdout",
     "output_type": "stream",
     "text": [
      "[ 1  2  3  4  5  6  7  8  9 10 11 12 13 14 15 16 17 18 19 20]\n"
     ]
    }
   ],
   "source": [
    "print(a.reshape((20,)))\n",
    "# 1D array with shape (20,) means it has 20 elements in a single row."
   ]
  },
  {
   "cell_type": "code",
   "execution_count": 89,
   "id": "70edb66f",
   "metadata": {},
   "outputs": [
    {
     "name": "stdout",
     "output_type": "stream",
     "text": [
      "[[ 1]\n",
      " [ 2]\n",
      " [ 3]\n",
      " [ 4]\n",
      " [ 5]\n",
      " [ 6]\n",
      " [ 7]\n",
      " [ 8]\n",
      " [ 9]\n",
      " [10]\n",
      " [11]\n",
      " [12]\n",
      " [13]\n",
      " [14]\n",
      " [15]\n",
      " [16]\n",
      " [17]\n",
      " [18]\n",
      " [19]\n",
      " [20]]\n"
     ]
    }
   ],
   "source": [
    "print(a.reshape((20,1)))"
   ]
  },
  {
   "cell_type": "code",
   "execution_count": 90,
   "id": "821c20f9",
   "metadata": {},
   "outputs": [
    {
     "name": "stdout",
     "output_type": "stream",
     "text": [
      "[[ 1  2  3  4  5  6  7  8  9 10]\n",
      " [11 12 13 14 15 16 17 18 19 20]]\n"
     ]
    }
   ],
   "source": [
    "print(a.reshape((2,10)))"
   ]
  },
  {
   "cell_type": "code",
   "execution_count": 91,
   "id": "14bb2968",
   "metadata": {},
   "outputs": [
    {
     "name": "stdout",
     "output_type": "stream",
     "text": [
      "[[[ 1  2]\n",
      "  [ 3  4]]\n",
      "\n",
      " [[ 5  6]\n",
      "  [ 7  8]]\n",
      "\n",
      " [[ 9 10]\n",
      "  [11 12]]\n",
      "\n",
      " [[13 14]\n",
      "  [15 16]]\n",
      "\n",
      " [[17 18]\n",
      "  [19 20]]]\n"
     ]
    }
   ],
   "source": [
    "print(a.reshape((5,2,2)))\n",
    "# 3D array with shape (5,2,2) means it has 5 arrays, each of them has 2 arrays, and each of them has 2 elements.\n",
    "# 5 arrays, each of them has 2 arrays, and each of them has 2 elements."
   ]
  },
  {
   "cell_type": "code",
   "execution_count": null,
   "id": "e6da8485",
   "metadata": {},
   "outputs": [
    {
     "name": "stdout",
     "output_type": "stream",
     "text": [
      "[[[[[[ 1  2  3  4  5  6  7  8  9 10]\n",
      "     [11 12 13 14 15 16 17 18 19 20]]]]]]\n"
     ]
    }
   ],
   "source": [
    "print(a.reshape((1,1,1,1,2,10)))\n",
    "# 6D array with shape (1,1,1,1,2,10) means it has 1 array, each of them has 1 array, and each of them has 1 array, and each of them has 2 arrays, and each of them has 10 elements.\n",
    "# 1 array, each of them has 1 array, and each of them has 1 array, and each of them has 2 arrays, and each of them has 10 elements."
   ]
  },
  {
   "cell_type": "code",
   "execution_count": 93,
   "id": "faf59f84",
   "metadata": {},
   "outputs": [
    {
     "data": {
      "text/plain": [
       "array([[ 1,  2],\n",
       "       [ 3,  4],\n",
       "       [ 5,  6],\n",
       "       [ 7,  8],\n",
       "       [ 9, 10],\n",
       "       [11, 12],\n",
       "       [13, 14],\n",
       "       [15, 16],\n",
       "       [17, 18],\n",
       "       [19, 20]])"
      ]
     },
     "execution_count": 93,
     "metadata": {},
     "output_type": "execute_result"
    }
   ],
   "source": [
    "a.reshape(10,2)"
   ]
  },
  {
   "cell_type": "code",
   "execution_count": 94,
   "id": "14bdf33b",
   "metadata": {},
   "outputs": [
    {
     "name": "stdout",
     "output_type": "stream",
     "text": [
      "[[ 1  2  3  4  5]\n",
      " [ 6  7  8  9 10]\n",
      " [11 12 13 14 15]\n",
      " [16 17 18 19 20]]\n"
     ]
    }
   ],
   "source": [
    "print(a)"
   ]
  },
  {
   "cell_type": "code",
   "execution_count": 96,
   "id": "0fb07621",
   "metadata": {},
   "outputs": [
    {
     "name": "stdout",
     "output_type": "stream",
     "text": [
      "[[ 1  2]\n",
      " [ 3  4]\n",
      " [ 5  6]\n",
      " [ 7  8]\n",
      " [ 9 10]\n",
      " [11 12]\n",
      " [13 14]\n",
      " [15 16]\n",
      " [17 18]\n",
      " [19 20]]\n"
     ]
    }
   ],
   "source": [
    "a.resize((10,2))\n",
    "print(a)"
   ]
  },
  {
   "cell_type": "code",
   "execution_count": 97,
   "id": "e0a0da60",
   "metadata": {},
   "outputs": [
    {
     "name": "stdout",
     "output_type": "stream",
     "text": [
      "[ 1  2  3  4  5  6  7  8  9 10 11 12 13 14 15 16 17 18 19 20]\n"
     ]
    }
   ],
   "source": [
    "print(a.flatten())"
   ]
  },
  {
   "cell_type": "code",
   "execution_count": 98,
   "id": "84fe66d6",
   "metadata": {},
   "outputs": [
    {
     "name": "stdout",
     "output_type": "stream",
     "text": [
      "[ 1  2  3  4  5  6  7  8  9 10 11 12 13 14 15 16 17 18 19 20]\n"
     ]
    }
   ],
   "source": [
    "print(a.ravel())"
   ]
  },
  {
   "cell_type": "code",
   "execution_count": null,
   "id": "22fd9b13",
   "metadata": {},
   "outputs": [
    {
     "name": "stdout",
     "output_type": "stream",
     "text": [
      "[ 1  2  3  4  5  6  7  8  9 10 11 12 13 14 15 16 17 18 19 20]\n",
      "[ 1  2  3  4  5  6  7  8  9 10 11 12 13 14 15 16 17 18 19 20]\n",
      "[  1   2 100   4   5   6   7   8   9  10  11  12  13  14  15  16  17  18\n",
      "  19  20]\n",
      "[[ 1  2]\n",
      " [ 3  4]\n",
      " [ 5  6]\n",
      " [ 7  8]\n",
      " [ 9 10]\n",
      " [11 12]\n",
      " [13 14]\n",
      " [15 16]\n",
      " [17 18]\n",
      " [19 20]]\n"
     ]
    }
   ],
   "source": [
    "print(a.flatten())\n",
    "print(a.ravel())\n",
    "\n",
    "var1 = a.flatten()\n",
    "var1[2] = 100\n",
    "print(var1)\n",
    "print(a)\n",
    "# dont change the original array, because flatten creates a copy of the original array."
   ]
  },
  {
   "cell_type": "code",
   "execution_count": null,
   "id": "0ea7bbb1",
   "metadata": {},
   "outputs": [
    {
     "name": "stdout",
     "output_type": "stream",
     "text": [
      "[  1   2 100   4   5   6   7   8   9  10  11  12  13  14  15  16  17  18\n",
      "  19  20]\n",
      "[[  1   2]\n",
      " [100   4]\n",
      " [  5   6]\n",
      " [  7   8]\n",
      " [  9  10]\n",
      " [ 11  12]\n",
      " [ 13  14]\n",
      " [ 15  16]\n",
      " [ 17  18]\n",
      " [ 19  20]]\n"
     ]
    }
   ],
   "source": [
    "var1 = a.ravel()\n",
    "var1[2] = 100\n",
    "print(var1)\n",
    "print(a)\n",
    "# changes the array"
   ]
  },
  {
   "cell_type": "code",
   "execution_count": 101,
   "id": "94d18510",
   "metadata": {},
   "outputs": [
    {
     "name": "stdout",
     "output_type": "stream",
     "text": [
      "[np.int64(1), np.int64(2), np.int64(100), np.int64(4), np.int64(5), np.int64(6), np.int64(7), np.int64(8), np.int64(9), np.int64(10), np.int64(11), np.int64(12), np.int64(13), np.int64(14), np.int64(15), np.int64(16), np.int64(17), np.int64(18), np.int64(19), np.int64(20)]\n"
     ]
    }
   ],
   "source": [
    "var = [v for v in a.flat]\n",
    "print(var)"
   ]
  },
  {
   "cell_type": "markdown",
   "id": "9b7fb979",
   "metadata": {},
   "source": [
    "# Transposing and other functions\n"
   ]
  },
  {
   "cell_type": "code",
   "execution_count": 102,
   "id": "64e31eac",
   "metadata": {},
   "outputs": [],
   "source": [
    "a = np.array([[1,2,3,4,5],\n",
    "              [6,7,8,9,10],\n",
    "              [11,12,13,14,15],\n",
    "              [16,17,18,19,20]])"
   ]
  },
  {
   "cell_type": "code",
   "execution_count": 104,
   "id": "1e82bd43",
   "metadata": {},
   "outputs": [
    {
     "name": "stdout",
     "output_type": "stream",
     "text": [
      "[[ 1  6 11 16]\n",
      " [ 2  7 12 17]\n",
      " [ 3  8 13 18]\n",
      " [ 4  9 14 19]\n",
      " [ 5 10 15 20]]\n"
     ]
    }
   ],
   "source": [
    "print(a.transpose())"
   ]
  },
  {
   "cell_type": "code",
   "execution_count": 105,
   "id": "a2a7beaf",
   "metadata": {},
   "outputs": [
    {
     "name": "stdout",
     "output_type": "stream",
     "text": [
      "[[ 1  6 11 16]\n",
      " [ 2  7 12 17]\n",
      " [ 3  8 13 18]\n",
      " [ 4  9 14 19]\n",
      " [ 5 10 15 20]]\n"
     ]
    }
   ],
   "source": [
    "print(a.T)"
   ]
  },
  {
   "cell_type": "code",
   "execution_count": 106,
   "id": "becbde9c",
   "metadata": {},
   "outputs": [
    {
     "name": "stdout",
     "output_type": "stream",
     "text": [
      "[[ 1  6 11 16]\n",
      " [ 2  7 12 17]\n",
      " [ 3  8 13 18]\n",
      " [ 4  9 14 19]\n",
      " [ 5 10 15 20]]\n"
     ]
    }
   ],
   "source": [
    "print(a.swapaxes(0,1))"
   ]
  },
  {
   "cell_type": "code",
   "execution_count": 108,
   "id": "37aacb07",
   "metadata": {},
   "outputs": [],
   "source": [
    "a1 = np.array([[1,2,3,4,5],\n",
    "              [6,7,8,9,10]])\n",
    "\n",
    "a2= np.array([[11,12,13,14,15],\n",
    "              [16,17,18,19,20]])\n",
    "             "
   ]
  },
  {
   "cell_type": "code",
   "execution_count": null,
   "id": "cec3d3b1",
   "metadata": {},
   "outputs": [
    {
     "name": "stdout",
     "output_type": "stream",
     "text": [
      "[[ 1  2  3  4  5]\n",
      " [ 6  7  8  9 10]\n",
      " [11 12 13 14 15]\n",
      " [16 17 18 19 20]]\n"
     ]
    }
   ],
   "source": [
    "a = np.concatenate((a1,a2), axis=0)\n",
    "print(a)\n",
    "# axis=0 means we are concatenating the arrays vertically, axis=1 means we are concatenating the arrays horizontally.   "
   ]
  },
  {
   "cell_type": "code",
   "execution_count": 110,
   "id": "3a7755a3",
   "metadata": {},
   "outputs": [
    {
     "name": "stdout",
     "output_type": "stream",
     "text": [
      "[[ 1  2  3  4  5 11 12 13 14 15]\n",
      " [ 6  7  8  9 10 16 17 18 19 20]]\n"
     ]
    }
   ],
   "source": [
    "a = np.concatenate((a1,a2), axis=1)\n",
    "print(a)"
   ]
  },
  {
   "cell_type": "code",
   "execution_count": 111,
   "id": "cc8c1ae6",
   "metadata": {},
   "outputs": [
    {
     "name": "stdout",
     "output_type": "stream",
     "text": [
      "[[[ 1  2  3  4  5]\n",
      "  [ 6  7  8  9 10]]\n",
      "\n",
      " [[11 12 13 14 15]\n",
      "  [16 17 18 19 20]]]\n"
     ]
    }
   ],
   "source": [
    "a = np.stack((a1,a2))\n",
    "print(a)"
   ]
  },
  {
   "cell_type": "code",
   "execution_count": 112,
   "id": "69a51299",
   "metadata": {},
   "outputs": [
    {
     "name": "stdout",
     "output_type": "stream",
     "text": [
      "[[ 1  2  3  4  5]\n",
      " [ 6  7  8  9 10]\n",
      " [11 12 13 14 15]\n",
      " [16 17 18 19 20]]\n"
     ]
    }
   ],
   "source": [
    "a = np.vstack((a1,a2))\n",
    "print(a)"
   ]
  },
  {
   "cell_type": "code",
   "execution_count": 113,
   "id": "e1478af0",
   "metadata": {},
   "outputs": [
    {
     "name": "stdout",
     "output_type": "stream",
     "text": [
      "[[ 1  2  3  4  5 11 12 13 14 15]\n",
      " [ 6  7  8  9 10 16 17 18 19 20]]\n"
     ]
    }
   ],
   "source": [
    "a = np.hstack((a1,a2))\n",
    "print(a)"
   ]
  },
  {
   "cell_type": "code",
   "execution_count": 114,
   "id": "cb165301",
   "metadata": {},
   "outputs": [],
   "source": [
    "a = np.array([[1,2,3,4,5],\n",
    "              [6,7,8,9,10],\n",
    "              [11,12,13,14,15],\n",
    "              [16,17,18,19,20]])"
   ]
  },
  {
   "cell_type": "code",
   "execution_count": 115,
   "id": "b5026fca",
   "metadata": {},
   "outputs": [
    {
     "name": "stdout",
     "output_type": "stream",
     "text": [
      "[array([[ 1,  2,  3,  4,  5],\n",
      "       [ 6,  7,  8,  9, 10]]), array([[11, 12, 13, 14, 15],\n",
      "       [16, 17, 18, 19, 20]])]\n"
     ]
    }
   ],
   "source": [
    "print(np.split(a, 2, axis=0))"
   ]
  },
  {
   "cell_type": "code",
   "execution_count": 116,
   "id": "c69d1583",
   "metadata": {},
   "outputs": [
    {
     "name": "stdout",
     "output_type": "stream",
     "text": [
      "[array([[1, 2, 3, 4, 5]]), array([[ 6,  7,  8,  9, 10]]), array([[11, 12, 13, 14, 15]]), array([[16, 17, 18, 19, 20]])]\n"
     ]
    }
   ],
   "source": [
    "print(np.split(a, 4, axis=0))"
   ]
  },
  {
   "cell_type": "code",
   "execution_count": 123,
   "id": "77726652",
   "metadata": {},
   "outputs": [],
   "source": [
    "a = np.array([[1,2,3,4,5,6],\n",
    "              [7,8,9,10,11,12],\n",
    "              [13,14,15,16,17,18],\n",
    "              [19,20,21,22,23,24]])"
   ]
  },
  {
   "cell_type": "code",
   "execution_count": 124,
   "id": "54a5c6ac",
   "metadata": {},
   "outputs": [
    {
     "name": "stdout",
     "output_type": "stream",
     "text": [
      "[array([[ 1,  2,  3],\n",
      "       [ 7,  8,  9],\n",
      "       [13, 14, 15],\n",
      "       [19, 20, 21]]), array([[ 4,  5,  6],\n",
      "       [10, 11, 12],\n",
      "       [16, 17, 18],\n",
      "       [22, 23, 24]])]\n"
     ]
    }
   ],
   "source": [
    "print(np.split(a, 2, axis=1))"
   ]
  },
  {
   "cell_type": "code",
   "execution_count": 125,
   "id": "9d891871",
   "metadata": {},
   "outputs": [
    {
     "name": "stdout",
     "output_type": "stream",
     "text": [
      "[array([[ 1,  2],\n",
      "       [ 7,  8],\n",
      "       [13, 14],\n",
      "       [19, 20]]), array([[ 3,  4],\n",
      "       [ 9, 10],\n",
      "       [15, 16],\n",
      "       [21, 22]]), array([[ 5,  6],\n",
      "       [11, 12],\n",
      "       [17, 18],\n",
      "       [23, 24]])]\n"
     ]
    }
   ],
   "source": [
    "print(np.split(a, 3, axis=1))"
   ]
  },
  {
   "cell_type": "code",
   "execution_count": 126,
   "id": "f9a446da",
   "metadata": {},
   "outputs": [
    {
     "name": "stdout",
     "output_type": "stream",
     "text": [
      "[array([[ 1],\n",
      "       [ 7],\n",
      "       [13],\n",
      "       [19]]), array([[ 2],\n",
      "       [ 8],\n",
      "       [14],\n",
      "       [20]]), array([[ 3],\n",
      "       [ 9],\n",
      "       [15],\n",
      "       [21]]), array([[ 4],\n",
      "       [10],\n",
      "       [16],\n",
      "       [22]]), array([[ 5],\n",
      "       [11],\n",
      "       [17],\n",
      "       [23]]), array([[ 6],\n",
      "       [12],\n",
      "       [18],\n",
      "       [24]])]\n"
     ]
    }
   ],
   "source": [
    "print(np.split(a, 6, axis=1))"
   ]
  },
  {
   "cell_type": "code",
   "execution_count": 128,
   "id": "54131751",
   "metadata": {},
   "outputs": [
    {
     "name": "stdout",
     "output_type": "stream",
     "text": [
      "1\n",
      "24\n",
      "12.5\n",
      "6.922186552431729\n",
      "300\n",
      "12.5\n"
     ]
    }
   ],
   "source": [
    "print(a.min())\n",
    "print(a.max())\n",
    "print(a.mean())\n",
    "print(a.std())\n",
    "print(a.sum())\n",
    "print(np.median(a))"
   ]
  },
  {
   "cell_type": "code",
   "execution_count": 132,
   "id": "46aa532d",
   "metadata": {},
   "outputs": [
    {
     "name": "stdout",
     "output_type": "stream",
     "text": [
      "[[[98 92 97 99]\n",
      "  [93 97 99 95]\n",
      "  [94 99 98 90]]\n",
      "\n",
      " [[90 94 90 97]\n",
      "  [99 95 95 97]\n",
      "  [93 94 92 94]]]\n"
     ]
    }
   ],
   "source": [
    "numbers = np.random.randint(90,100, size =(2,3,4))\n",
    "print(numbers)"
   ]
  },
  {
   "cell_type": "code",
   "execution_count": 135,
   "id": "434a3953",
   "metadata": {},
   "outputs": [
    {
     "name": "stdout",
     "output_type": "stream",
     "text": [
      "[[5 5 5 8 5 7 4 3 4 6]\n",
      " [2 7 3 4 1 4 4 6 2 5]\n",
      " [5 7 5 5 6 7 4 7 7 3]\n",
      " [1 5 5 6 8 4 6 7 8 5]\n",
      " [7 5 6 5 4 5 5 4 4 4]]\n"
     ]
    }
   ],
   "source": [
    "numbers = np.random.binomial(10, p=0.5, size=(5,10))\n",
    "print(numbers)"
   ]
  },
  {
   "cell_type": "code",
   "execution_count": 138,
   "id": "95425956",
   "metadata": {},
   "outputs": [
    {
     "name": "stdout",
     "output_type": "stream",
     "text": [
      "[[10 10 30 30 10 50 40 40 10 50]\n",
      " [30 50 50 50 40 20 20 50 50 10]\n",
      " [20 40 50 50 40 30 30 50 20 40]\n",
      " [10 10 50 20 20 40 40 10 10 40]\n",
      " [20 10 10 10 40 30 40 40 10 20]]\n"
     ]
    }
   ],
   "source": [
    "numbers = np.random.choice([10,20,30,40,50], size = (5,10))\n",
    "print(numbers)"
   ]
  },
  {
   "cell_type": "code",
   "execution_count": 139,
   "id": "2b4b1fb6",
   "metadata": {},
   "outputs": [],
   "source": [
    "np.save(\"myArray.npy\", a)"
   ]
  },
  {
   "cell_type": "code",
   "execution_count": 140,
   "id": "b09a45a2",
   "metadata": {},
   "outputs": [
    {
     "name": "stdout",
     "output_type": "stream",
     "text": [
      "[[ 1  2  3  4  5  6]\n",
      " [ 7  8  9 10 11 12]\n",
      " [13 14 15 16 17 18]\n",
      " [19 20 21 22 23 24]]\n"
     ]
    }
   ],
   "source": [
    "a = np.load(\"myArray.npy\")\n",
    "print(a)\n"
   ]
  },
  {
   "cell_type": "code",
   "execution_count": 142,
   "id": "d0e47033",
   "metadata": {},
   "outputs": [],
   "source": [
    "np.savetxt(\"myArray.csv\", a, delimiter=\",\")"
   ]
  },
  {
   "cell_type": "code",
   "execution_count": 143,
   "id": "6168893a",
   "metadata": {},
   "outputs": [
    {
     "name": "stdout",
     "output_type": "stream",
     "text": [
      "[[ 1.  2.  3.  4.  5.  6.]\n",
      " [ 7.  8.  9. 10. 11. 12.]\n",
      " [13. 14. 15. 16. 17. 18.]\n",
      " [19. 20. 21. 22. 23. 24.]]\n"
     ]
    }
   ],
   "source": [
    "a= np.loadtxt(\"myArray.csv\", delimiter=\",\")\n",
    "print(a)"
   ]
  },
  {
   "cell_type": "code",
   "execution_count": null,
   "id": "810c6657",
   "metadata": {},
   "outputs": [],
   "source": []
  }
 ],
 "metadata": {
  "kernelspec": {
   "display_name": "Python 3",
   "language": "python",
   "name": "python3"
  },
  "language_info": {
   "codemirror_mode": {
    "name": "ipython",
    "version": 3
   },
   "file_extension": ".py",
   "mimetype": "text/x-python",
   "name": "python",
   "nbconvert_exporter": "python",
   "pygments_lexer": "ipython3",
   "version": "3.13.1"
  }
 },
 "nbformat": 4,
 "nbformat_minor": 5
}
